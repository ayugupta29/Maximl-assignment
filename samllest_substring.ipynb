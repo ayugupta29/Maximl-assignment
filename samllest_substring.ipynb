{
 "cells": [
  {
   "cell_type": "code",
   "execution_count": 1,
   "metadata": {},
   "outputs": [
    {
     "name": "stdin",
     "output_type": "stream",
     "text": [
      " ccf\n"
     ]
    },
    {
     "name": "stdout",
     "output_type": "stream",
     "text": [
      "2\n"
     ]
    }
   ],
   "source": [
    "def dist_char(str):\n",
    "    return len(set(str))\n",
    "\n",
    "def smallest_str(str):\n",
    "    str_len = len(str)\n",
    "    max_dist = dist_char(str)\n",
    "\n",
    "    min_str_len = str_len\n",
    "    sub_string=str\n",
    "    for j in range(str_len+1-max_dist):\n",
    "        for k in range(max_dist-1,str_len+1):\n",
    "            sub_str = str[j:k]\n",
    "            sub_str_len = len(sub_str)\n",
    "            sub_dist_len = dist_char(sub_str)\n",
    "            if (sub_str_len < min_str_len and max_dist == sub_dist_len):\n",
    "                min_str_len = sub_str_len\n",
    "                sub_string = sub_str\n",
    "    return len(sub_string)\n",
    "\n",
    "string=input()\n",
    "print(smallest_str(string))"
   ]
  },
  {
   "cell_type": "code",
   "execution_count": null,
   "metadata": {},
   "outputs": [],
   "source": []
  }
 ],
 "metadata": {
  "kernelspec": {
   "display_name": "Python 3",
   "language": "python",
   "name": "python3"
  },
  "language_info": {
   "codemirror_mode": {
    "name": "ipython",
    "version": 3
   },
   "file_extension": ".py",
   "mimetype": "text/x-python",
   "name": "python",
   "nbconvert_exporter": "python",
   "pygments_lexer": "ipython3",
   "version": "3.7.6"
  }
 },
 "nbformat": 4,
 "nbformat_minor": 4
}
